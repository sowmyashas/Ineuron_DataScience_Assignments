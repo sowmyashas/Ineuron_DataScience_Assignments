{
 "cells": [
  {
   "cell_type": "code",
   "execution_count": null,
   "id": "b7f8a39c",
   "metadata": {},
   "outputs": [],
   "source": [
    "#1. What exactly is []?\n",
    "\n",
    " It is an empty list in Python"
   ]
  },
  {
   "cell_type": "code",
   "execution_count": 23,
   "id": "dfe68e5e",
   "metadata": {},
   "outputs": [
    {
     "name": "stdout",
     "output_type": "stream",
     "text": [
      "[2, 4, 'hello', 6, 8, 10]\n"
     ]
    }
   ],
   "source": [
    "#2. In a list of values stored in a variable called spam, how would you assign the value 'hello' as the third value? \n",
    "#(Assume [2, 4, 6, 8, 10] are in spam.)\n",
    "\n",
    " \n",
    "spam = [2,4,6,8,10]\n",
    "spam.insert(2, 'hello')\n",
    "print(spam)\n"
   ]
  },
  {
   "cell_type": "code",
   "execution_count": 30,
   "id": "6d6f149b",
   "metadata": {},
   "outputs": [
    {
     "data": {
      "text/plain": [
       "'d'"
      ]
     },
     "execution_count": 30,
     "metadata": {},
     "output_type": "execute_result"
    }
   ],
   "source": [
    "#Let's pretend the spam includes the list ['a', 'b', 'c', 'd'] for the next three queries.\n",
    "\n",
    "#3. What is the value of spam[int(int('3' * 2) / 11)]?\n",
    "spam=['a','b', 'c', 'd']\n",
    "spam[int(int('3' * 2) / 11)]\n"
   ]
  },
  {
   "cell_type": "code",
   "execution_count": 22,
   "id": "10f1dc99",
   "metadata": {},
   "outputs": [
    {
     "data": {
      "text/plain": [
       "'d'"
      ]
     },
     "execution_count": 22,
     "metadata": {},
     "output_type": "execute_result"
    }
   ],
   "source": [
    "#4. What is the value of spam[-1]?\n",
    "spam[-1]"
   ]
  },
  {
   "cell_type": "code",
   "execution_count": 31,
   "id": "9e969f1b",
   "metadata": {},
   "outputs": [
    {
     "data": {
      "text/plain": [
       "['a', 'b']"
      ]
     },
     "execution_count": 31,
     "metadata": {},
     "output_type": "execute_result"
    }
   ],
   "source": [
    "#5. What is the value of spam[:2]?\n",
    "spam[:2]"
   ]
  },
  {
   "cell_type": "code",
   "execution_count": 40,
   "id": "6b4df185",
   "metadata": {},
   "outputs": [
    {
     "data": {
      "text/plain": [
       "1"
      ]
     },
     "execution_count": 40,
     "metadata": {},
     "output_type": "execute_result"
    }
   ],
   "source": [
    "#Let's pretend bacon has the list [3.14, 'cat,' 11, 'cat,' True] for the next three questions.\n",
    "\n",
    "#6. What is the value of bacon.index('cat')?\n",
    "bacon=[3.14, 'cat', 11, 'cat', True]\n",
    "bacon.index('cat')"
   ]
  },
  {
   "cell_type": "code",
   "execution_count": 41,
   "id": "6d104650",
   "metadata": {},
   "outputs": [
    {
     "name": "stdout",
     "output_type": "stream",
     "text": [
      "[3.14, 'cat', 11, 'cat', True, 99]\n"
     ]
    }
   ],
   "source": [
    "#7. How does bacon.append(99) change the look of the list value in bacon?\n",
    "bacon.append(99)\n",
    "print(bacon)"
   ]
  },
  {
   "cell_type": "code",
   "execution_count": 42,
   "id": "6c41285c",
   "metadata": {},
   "outputs": [
    {
     "name": "stdout",
     "output_type": "stream",
     "text": [
      "[3.14, 11, 'cat', True, 99]\n"
     ]
    }
   ],
   "source": [
    "#8. How does bacon.remove('cat') change the look of the list in bacon?\n",
    "bacon.remove('cat')\n",
    "print(bacon)"
   ]
  },
  {
   "cell_type": "code",
   "execution_count": null,
   "id": "2e63c791",
   "metadata": {},
   "outputs": [],
   "source": [
    "#9. What are the list concatenation and list replication operators?\n",
    "    List concatenation operator is ‘+’ while list replication operator is ‘*’"
   ]
  },
  {
   "cell_type": "code",
   "execution_count": null,
   "id": "3db3b37d",
   "metadata": {},
   "outputs": [],
   "source": [
    "#10. What is difference between the list methods append() and insert()?\n",
    "    Append method appends the given object to the end of the list always. \n",
    "    Insert method accepts two arguments, index at which the element needs to be inserted and the object to insert.\n",
    "    "
   ]
  },
  {
   "cell_type": "code",
   "execution_count": null,
   "id": "47475164",
   "metadata": {},
   "outputs": [],
   "source": [
    "#11. What are the two methods for removing items from a list?\n",
    "     List.remove(object) -> Removes the first occurrence of the given object from the list\n",
    "     List.pop(index=-1) -> Removes and returns item at the index (default is -1, the last element)"
   ]
  },
  {
   "cell_type": "code",
   "execution_count": null,
   "id": "0dad6849",
   "metadata": {},
   "outputs": [],
   "source": [
    "#12. Describe how list values and string values are identical.  \n",
    "     list is a collection of values in Python, string is a collection of characters. \n",
    "Both list and strings are iterable in Python and a for loop can be used to iterate through each element in the list/string."
   ]
  },
  {
   "cell_type": "code",
   "execution_count": null,
   "id": "6d87a568",
   "metadata": {},
   "outputs": [],
   "source": [
    "#13. What's the difference between tuples and lists?\n",
    "     Tuples are immutable where as lists in Python are mutable. So once created, the items inside tuple cannot be changed."
   ]
  },
  {
   "cell_type": "code",
   "execution_count": 44,
   "id": "3eaf50a5",
   "metadata": {},
   "outputs": [
    {
     "data": {
      "text/plain": [
       "(42,)"
      ]
     },
     "execution_count": 44,
     "metadata": {},
     "output_type": "execute_result"
    }
   ],
   "source": [
    "#14. How do you type a tuple value that only contains the integer 42?\n",
    "tuple([42])"
   ]
  },
  {
   "cell_type": "code",
   "execution_count": 79,
   "id": "ae8bdd3c",
   "metadata": {},
   "outputs": [
    {
     "name": "stdout",
     "output_type": "stream",
     "text": [
      "(1, 2, 3, 4, 5)\n"
     ]
    },
    {
     "ename": "TypeError",
     "evalue": "'list' object is not callable",
     "output_type": "error",
     "traceback": [
      "\u001b[1;31m---------------------------------------------------------------------------\u001b[0m",
      "\u001b[1;31mTypeError\u001b[0m                                 Traceback (most recent call last)",
      "\u001b[1;32m~\\AppData\\Local\\Temp/ipykernel_6380/3734568585.py\u001b[0m in \u001b[0;36m<module>\u001b[1;34m\u001b[0m\n\u001b[0;32m      4\u001b[0m \u001b[0mprint\u001b[0m\u001b[1;33m(\u001b[0m\u001b[0mx\u001b[0m\u001b[1;33m)\u001b[0m\u001b[1;33m\u001b[0m\u001b[1;33m\u001b[0m\u001b[0m\n\u001b[0;32m      5\u001b[0m \u001b[0mtuple_data\u001b[0m\u001b[1;33m=\u001b[0m\u001b[1;33m(\u001b[0m\u001b[1;36m6\u001b[0m\u001b[1;33m,\u001b[0m\u001b[1;36m7\u001b[0m\u001b[1;33m,\u001b[0m\u001b[1;36m8\u001b[0m\u001b[1;33m,\u001b[0m\u001b[1;36m9\u001b[0m\u001b[1;33m,\u001b[0m\u001b[1;36m10\u001b[0m\u001b[1;33m)\u001b[0m\u001b[1;33m\u001b[0m\u001b[1;33m\u001b[0m\u001b[0m\n\u001b[1;32m----> 6\u001b[1;33m \u001b[0my\u001b[0m\u001b[1;33m=\u001b[0m\u001b[0mlist\u001b[0m\u001b[1;33m(\u001b[0m\u001b[0mtuple_data\u001b[0m\u001b[1;33m)\u001b[0m\u001b[1;33m\u001b[0m\u001b[1;33m\u001b[0m\u001b[0m\n\u001b[0m\u001b[0;32m      7\u001b[0m \u001b[0mprint\u001b[0m\u001b[1;33m(\u001b[0m\u001b[0my\u001b[0m\u001b[1;33m)\u001b[0m\u001b[1;33m\u001b[0m\u001b[1;33m\u001b[0m\u001b[0m\n",
      "\u001b[1;31mTypeError\u001b[0m: 'list' object is not callable"
     ]
    }
   ],
   "source": [
    "#15. How do you get a list value's tuple form? How do you get a tuple value's list form?\n",
    "list_data = [1,2,3,4,5]\n",
    "x=tuple(list_data)\n",
    "print(x)\n",
    "tuple_data=(6,7,8,9,10)\n",
    "y=list(tuple_data)\n",
    "print(y)"
   ]
  },
  {
   "cell_type": "code",
   "execution_count": null,
   "id": "1f69a1dd",
   "metadata": {},
   "outputs": [],
   "source": [
    "#16. Variables that \"contain\" list values are not necessarily lists themselves. Instead, what do they contain?\n",
    "They contain references to the list values"
   ]
  },
  {
   "cell_type": "code",
   "execution_count": null,
   "id": "61c93b81",
   "metadata": {},
   "outputs": [],
   "source": [
    "#17. How do you distinguish between copy.copy() and copy.deepcopy()?\n",
    "The copy.copy() function will do a shallow copy of a list,\n",
    "The copy.deepcopy() function will do a deep copy of a list. only copy.deepcopy() will duplicate any lists inside the list"
   ]
  }
 ],
 "metadata": {
  "kernelspec": {
   "display_name": "Python 3 (ipykernel)",
   "language": "python",
   "name": "python3"
  },
  "language_info": {
   "codemirror_mode": {
    "name": "ipython",
    "version": 3
   },
   "file_extension": ".py",
   "mimetype": "text/x-python",
   "name": "python",
   "nbconvert_exporter": "python",
   "pygments_lexer": "ipython3",
   "version": "3.9.7"
  }
 },
 "nbformat": 4,
 "nbformat_minor": 5
}
