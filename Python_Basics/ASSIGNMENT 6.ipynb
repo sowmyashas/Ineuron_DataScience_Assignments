{
 "cells": [
  {
   "cell_type": "code",
   "execution_count": 7,
   "id": "988051d3",
   "metadata": {},
   "outputs": [
    {
     "name": "stdout",
     "output_type": "stream",
     "text": [
      "it's a holiday\n",
      "'it's a holiday'\n"
     ]
    }
   ],
   "source": [
    "#1. What are escape characters, and how do you use them?\n",
    "    In Python strings, the backslash (\\) is a special character, also called the \"escape\" character. \n",
    "It is used in representing certain whitespace characters: \"\\t\" is a tab, \"\\n\" is a newline, and \"\\r\" is a carriage return.\n",
    "prefixing a special character with \\ turns it into an ordinary character. This is called \"escaping\". \n",
    "\n",
    "print(\"it's a holiday\")\n",
    "#above sentence can be reperesented using escape charecter to print in quotes\n",
    "print(\"'it\\'s a holiday'\")"
   ]
  },
  {
   "cell_type": "code",
   "execution_count": null,
   "id": "64eec1e4",
   "metadata": {},
   "outputs": [],
   "source": [
    "#2. What do the escape characters n and t stand for?\n",
    "\"\\t\" is a tab\n",
    "\"\\n\" is a newline\n"
   ]
  },
  {
   "cell_type": "code",
   "execution_count": 9,
   "id": "c9071543",
   "metadata": {},
   "outputs": [
    {
     "name": "stdout",
     "output_type": "stream",
     "text": [
      "it's a back slash \\ in a sentence\n"
     ]
    }
   ],
   "source": [
    "#3. What is the way to include backslash characters in a string?\n",
    "print(\"it's a back slash \\\\ in a sentence\")"
   ]
  },
  {
   "cell_type": "code",
   "execution_count": null,
   "id": "3ae8e7e1",
   "metadata": {},
   "outputs": [],
   "source": [
    "#4. The string \"Howl's Moving Castle\" is a correct value. \n",
    "Why isn't the single quote character in the word Howl's not escaped a problem?\n"
   ]
  },
  {
   "cell_type": "code",
   "execution_count": 12,
   "id": "56b7f6f2",
   "metadata": {},
   "outputs": [
    {
     "name": "stdout",
     "output_type": "stream",
     "text": [
      "This is my\n",
      "multi line \n",
      "string by \n",
      "name string_multiline\n"
     ]
    }
   ],
   "source": [
    "#5. How do you write a string of newlines if you don't want to use the n character?\n",
    "    To write a string of newlines without using the new line character, we can use Pythons multi line strings \n",
    "which are placed inside triple quotes\n",
    "\n",
    "string_multiline = \"\"\"This is my\n",
    "multi line \n",
    "string by \n",
    "name string_multiline\"\"\"\n",
    "print(string_multiline)"
   ]
  },
  {
   "cell_type": "code",
   "execution_count": 10,
   "id": "666ced5f",
   "metadata": {},
   "outputs": [
    {
     "name": "stdout",
     "output_type": "stream",
     "text": [
      "e\n",
      "Hello\n",
      "Hello\n",
      "lo, world!\n"
     ]
    }
   ],
   "source": [
    "#6. What are the values of the given expressions?\n",
    "print('Hello, world!'[1])\n",
    "print('Hello, world!'[0:5])\n",
    "print('Hello, world!'[:5])\n",
    "print('Hello, world!'[3:])\n",
    "\n"
   ]
  },
  {
   "cell_type": "code",
   "execution_count": 13,
   "id": "20ea3bb6",
   "metadata": {},
   "outputs": [
    {
     "name": "stdout",
     "output_type": "stream",
     "text": [
      "HELLO\n",
      "True\n",
      "hello\n"
     ]
    }
   ],
   "source": [
    "#7. What are the values of the following expressions?\n",
    "print('Hello'.upper())\n",
    "print('Hello'.upper().isupper())\n",
    "print('Hello'.upper().lower())\n"
   ]
  },
  {
   "cell_type": "code",
   "execution_count": 15,
   "id": "de531c7f",
   "metadata": {},
   "outputs": [
    {
     "name": "stdout",
     "output_type": "stream",
     "text": [
      "['Remember,', 'remember,', 'the', 'fifth', 'of', 'July.']\n",
      "There-can-only-one.\n"
     ]
    }
   ],
   "source": [
    "#8. What are the values of the following expressions?\n",
    "print('Remember, remember, the fifth of July.'.split())\n",
    "print('-'.join('There can only one.'.split()))\n"
   ]
  },
  {
   "cell_type": "code",
   "execution_count": null,
   "id": "97331781",
   "metadata": {},
   "outputs": [],
   "source": [
    "#9. What are the methods for right-justifying, left-justifying, and centering a string?\n",
    "\n",
    "ljust() - left justifying\n",
    "rjust() - right justifying\n",
    "center() - center"
   ]
  },
  {
   "cell_type": "code",
   "execution_count": null,
   "id": "e42037bb",
   "metadata": {},
   "outputs": [],
   "source": [
    "#10. What is the best way to remove whitespace characters from the start or end?\n",
    "lstrip() -> removes white spaces from left of the string\n",
    "rstrip() -> removes whitespaces from right of the string"
   ]
  }
 ],
 "metadata": {
  "kernelspec": {
   "display_name": "Python 3 (ipykernel)",
   "language": "python",
   "name": "python3"
  },
  "language_info": {
   "codemirror_mode": {
    "name": "ipython",
    "version": 3
   },
   "file_extension": ".py",
   "mimetype": "text/x-python",
   "name": "python",
   "nbconvert_exporter": "python",
   "pygments_lexer": "ipython3",
   "version": "3.9.7"
  }
 },
 "nbformat": 4,
 "nbformat_minor": 5
}
