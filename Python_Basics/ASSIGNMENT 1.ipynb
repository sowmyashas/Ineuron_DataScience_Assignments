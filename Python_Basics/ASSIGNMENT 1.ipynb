{
 "cells": [
  {
   "cell_type": "code",
   "execution_count": 1,
   "id": "57e33690",
   "metadata": {},
   "outputs": [],
   "source": [
    "#1. In the below elements which of them are values or an expression? \n",
    "#     eg::- values can be integer or string and expressions will be mathematical operators.\n",
    "\n",
    "*         - expressions\n",
    "'hello'   - value(string)\n",
    "-87.8     - value(decimal)\n",
    "-         - expression\n",
    "/         - expression\n",
    "+\t      - expression\n",
    "6         - value(integer)\n",
    " "
   ]
  },
  {
   "cell_type": "code",
   "execution_count": null,
   "id": "870ea9fc",
   "metadata": {},
   "outputs": [],
   "source": [
    "#2. What is the difference between string and variable?\n",
    "    A string is a  data type which can be a group of characters enclosed in single or double quotes. \n",
    "    A variable is an identifier which can store a value of any data type."
   ]
  },
  {
   "cell_type": "code",
   "execution_count": null,
   "id": "d797bf89-6676-4560-8919-658b59f318d4",
   "metadata": {},
   "outputs": [],
   "source": [
    "#3. Describe three different data types.\n",
    "     1. numeric data type - The Number data type is used to stores numeric values which can be integer, float or complex\n",
    "                            numbers .\n",
    "     2. String data type  - The String data type can store a group of characters.\n",
    "     3. Sequence Data type - The sequence data type can store data in  sequence which can be combination of numeric and string.\n",
    "                             It can List, dictionary and tuple.                   \n"
   ]
  },
  {
   "cell_type": "code",
   "execution_count": null,
   "id": "12b4dac9",
   "metadata": {},
   "outputs": [],
   "source": [
    "#4. What is an expression made up of? What do all expressions do?\n",
    "        An Expression is made up of operands and operators. Expressions need to be evaluated.\n"
   ]
  },
  {
   "cell_type": "code",
   "execution_count": null,
   "id": "07683c82",
   "metadata": {},
   "outputs": [],
   "source": [
    "#5. This assignment statements, like spam = 10. What is the difference between an expression and a statement?\n",
    "        Expression contains operands and operators and needs to be evaluated. While statement like spam=10 just assigns a\n",
    "    value for a variable."
   ]
  },
  {
   "cell_type": "code",
   "execution_count": 2,
   "id": "c21d2424",
   "metadata": {},
   "outputs": [
    {
     "data": {
      "text/plain": [
       "23"
      ]
     },
     "execution_count": 2,
     "metadata": {},
     "output_type": "execute_result"
    }
   ],
   "source": [
    "#6. After running the following code, what does the variable bacon contain?\n",
    "bacon = 22\n",
    "bacon + 1\n"
   ]
  },
  {
   "cell_type": "code",
   "execution_count": 3,
   "id": "76741533",
   "metadata": {},
   "outputs": [
    {
     "data": {
      "text/plain": [
       "'spamspamspam'"
      ]
     },
     "execution_count": 3,
     "metadata": {},
     "output_type": "execute_result"
    }
   ],
   "source": [
    "#7. What should the values of the following two terms be?\n",
    "'spam' + 'spamspam'\n",
    "'spam' * 3\n"
   ]
  },
  {
   "cell_type": "code",
   "execution_count": null,
   "id": "7837f670",
   "metadata": {},
   "outputs": [],
   "source": [
    "#8. Why is eggs a valid variable name while 100 is invalid?\n",
    "      \"eggs\" is a group of character which can be used as variable name, while 100 is a numeric data which cannot be used \n",
    "        as a variable representation.\n"
   ]
  },
  {
   "cell_type": "code",
   "execution_count": null,
   "id": "442499f4",
   "metadata": {},
   "outputs": [],
   "source": [
    "#9. What three functions can be used to get the integer, floating-point number, or string version of a value?"
   ]
  },
  {
   "cell_type": "code",
   "execution_count": null,
   "id": "29be51b2",
   "metadata": {},
   "outputs": [],
   "source": [
    "#10. Why does this expression cause an error? How can you fix it?\n",
    "'I have eaten ' + 99 + ' burritos.'\n",
    "       This expression gives an error because integer value cannot be concatenated. So by giving '99' it can be fixed."
   ]
  },
  {
   "cell_type": "code",
   "execution_count": 6,
   "id": "4dbaf094",
   "metadata": {},
   "outputs": [
    {
     "data": {
      "text/plain": [
       "'I have eaten 99 burritos.'"
      ]
     },
     "execution_count": 6,
     "metadata": {},
     "output_type": "execute_result"
    }
   ],
   "source": [
    "'I have eaten ' + \"99\" + ' burritos.'"
   ]
  }
 ],
 "metadata": {
  "kernelspec": {
   "display_name": "Python 3 (ipykernel)",
   "language": "python",
   "name": "python3"
  },
  "language_info": {
   "codemirror_mode": {
    "name": "ipython",
    "version": 3
   },
   "file_extension": ".py",
   "mimetype": "text/x-python",
   "name": "python",
   "nbconvert_exporter": "python",
   "pygments_lexer": "ipython3",
   "version": "3.9.7"
  }
 },
 "nbformat": 4,
 "nbformat_minor": 5
}
