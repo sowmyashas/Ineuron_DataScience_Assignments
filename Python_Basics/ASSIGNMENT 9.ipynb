{
 "cells": [
  {
   "cell_type": "code",
   "execution_count": null,
   "id": "fef31c72",
   "metadata": {},
   "outputs": [],
   "source": [
    "1. To what does a relative path refer?\n",
    "Ans:  A relative path points to a location that is relative to a current working directory. \n"
   ]
  },
  {
   "cell_type": "code",
   "execution_count": null,
   "id": "154b3ac1",
   "metadata": {},
   "outputs": [],
   "source": [
    "2. What does an absolute path start with your operating system?\n",
    "Ans:  An absolute path is a path that describes the location of a file or folder regardless of the current working \n",
    "directory which is relative to the root directory."
   ]
  },
  {
   "cell_type": "code",
   "execution_count": null,
   "id": "2a014f27",
   "metadata": {},
   "outputs": [],
   "source": [
    "3. What do the functions os.getcwd() and os.chdir() do?\n",
    "Ans: os.getcwd() returns you the current working directory path\n",
    "os.chdir() is used to change the current working directory while running the program\n"
   ]
  },
  {
   "cell_type": "code",
   "execution_count": null,
   "id": "7176c312",
   "metadata": {},
   "outputs": [],
   "source": [
    "4. What are the . and .. folders?\n",
    "Ans:  . single dot means the current folder\n",
    "      .. double dot means the parent folder\n"
   ]
  },
  {
   "cell_type": "code",
   "execution_count": null,
   "id": "c9d333d8",
   "metadata": {},
   "outputs": [],
   "source": [
    "5. In C:\\bacon\\eggs\\spam.txt, which part is the dir name, and which part is the base name?\n",
    "Ans:   C:\\bacon\\eggs is the dir name and spam.txt is the base name"
   ]
  },
  {
   "cell_type": "code",
   "execution_count": null,
   "id": "0097fa11",
   "metadata": {},
   "outputs": [],
   "source": [
    "6. What are the three “mode” arguments that can be passed to the open() function?\n",
    "Ans: r' for read mode\n",
    "    'w' for write mode\n",
    "    'a' for append mode."
   ]
  },
  {
   "cell_type": "code",
   "execution_count": null,
   "id": "8f3456be",
   "metadata": {},
   "outputs": [],
   "source": [
    "7. What happens if an existing file is opened in write mode?\n",
    "Ans:   If an existing file is opened in write mode, then all the existing content from the file is erased and \n",
    "     the new content will be added.\n",
    "    This might result in loss of data if you wanted to have both existing and new data to existing in the file."
   ]
  },
  {
   "cell_type": "code",
   "execution_count": null,
   "id": "debefbef",
   "metadata": {},
   "outputs": [],
   "source": [
    "8. How do you tell the difference between read() and readlines()?\n",
    "Ans:   The read() method returns the file’s entire contents as a single string value.\n",
    "The readlines() method returns a list of strings, where each string is a line from the file’s contents."
   ]
  },
  {
   "cell_type": "code",
   "execution_count": null,
   "id": "5cd3ad15",
   "metadata": {},
   "outputs": [],
   "source": [
    "9. What data structure does a shelf value resemble?\n",
    "Ans:   A shelf value resembles a dictionary value; it has keys and values, along with keys() and values() methods \n",
    "       that work similarly to the dictionary methods of the same names."
   ]
  }
 ],
 "metadata": {
  "kernelspec": {
   "display_name": "Python 3 (ipykernel)",
   "language": "python",
   "name": "python3"
  },
  "language_info": {
   "codemirror_mode": {
    "name": "ipython",
    "version": 3
   },
   "file_extension": ".py",
   "mimetype": "text/x-python",
   "name": "python",
   "nbconvert_exporter": "python",
   "pygments_lexer": "ipython3",
   "version": "3.9.7"
  }
 },
 "nbformat": 4,
 "nbformat_minor": 5
}
