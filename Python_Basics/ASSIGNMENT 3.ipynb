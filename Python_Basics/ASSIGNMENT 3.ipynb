{
 "cells": [
  {
   "cell_type": "code",
   "execution_count": null,
   "id": "8d933992",
   "metadata": {},
   "outputs": [],
   "source": [
    "#1. Why are functions advantageous to have in your programs?\n",
    "        A function is a block of reusable code that is used to perform a specific action.\n",
    "    The advantages of using functions are:\n",
    "-Reducing duplication of code\n",
    "-Decomposing complex problems into simpler pieces\n",
    "-Improving clarity of the code\n",
    "-Reuse of code\n",
    "-Information hiding"
   ]
  },
  {
   "cell_type": "code",
   "execution_count": null,
   "id": "40394671",
   "metadata": {},
   "outputs": [],
   "source": [
    "#2. When does the code in a function run: when it's specified or when it's called?\n",
    "    Functions runs only when it is called."
   ]
  },
  {
   "cell_type": "code",
   "execution_count": null,
   "id": "3ea8173b",
   "metadata": {},
   "outputs": [],
   "source": [
    "#3. What statement creates a function?\n",
    "    def statement creates a function"
   ]
  },
  {
   "cell_type": "code",
   "execution_count": null,
   "id": "8cbd6a9b",
   "metadata": {},
   "outputs": [],
   "source": [
    "#4. What is the difference between a function and a function call?\n",
    "    The difference between the function and function call is, a function is procedure to achieve a particular result. \n",
    "    While function call is using this function to achive that task."
   ]
  },
  {
   "cell_type": "code",
   "execution_count": null,
   "id": "2974321b",
   "metadata": {},
   "outputs": [],
   "source": [
    "#5. How many global scopes are there in a Python program? How many local scopes?\n",
    "    There's only one global Python scope per program execution. \n",
    "    This global scope remains in existence until the program terminates and all its names are forgotten.\n",
    "    \n",
    "    The Local scopes can be of any numbers per program."
   ]
  },
  {
   "cell_type": "code",
   "execution_count": null,
   "id": "ad28e0e3",
   "metadata": {},
   "outputs": [],
   "source": [
    "#6. What happens to variables in a local scope when the function call returns?\n",
    "    When the execution of the function terminates (returns), the local variables are destroyed."
   ]
  },
  {
   "cell_type": "code",
   "execution_count": null,
   "id": "c8e43573",
   "metadata": {},
   "outputs": [],
   "source": [
    "#7. What is the concept of a return value? Is it possible to have a return value in an expression?\n",
    "    A return statement is used to end the execution of the function call and “returns” the result"
   ]
  },
  {
   "cell_type": "code",
   "execution_count": null,
   "id": "06feaadb",
   "metadata": {},
   "outputs": [],
   "source": [
    "#8. If a function does not have a return statement, what is the return value of a call to that function?\n",
    "    If a function doesn't specify a return value, it returns None"
   ]
  },
  {
   "cell_type": "code",
   "execution_count": null,
   "id": "4879ea4b",
   "metadata": {},
   "outputs": [],
   "source": [
    "#9. How do you make a function variable refer to the global variable?\n",
    "    A function variable can be refered as global variable by declaring it outside the def function"
   ]
  },
  {
   "cell_type": "code",
   "execution_count": 3,
   "id": "5ee7df19",
   "metadata": {},
   "outputs": [
    {
     "data": {
      "text/plain": [
       "NoneType"
      ]
     },
     "execution_count": 3,
     "metadata": {},
     "output_type": "execute_result"
    }
   ],
   "source": [
    "#10. What is the data type of None?\n",
    "type(None)"
   ]
  },
  {
   "cell_type": "code",
   "execution_count": null,
   "id": "2c35c93a",
   "metadata": {},
   "outputs": [],
   "source": [
    "#11. What does the sentence import areallyourpetsnamederic do?\n",
    "     import areallyourpetsnamederic - It imports the module name called \"areallyourpetsnamederic\""
   ]
  },
  {
   "cell_type": "code",
   "execution_count": null,
   "id": "3ee0118c",
   "metadata": {},
   "outputs": [],
   "source": [
    "#12. If you had a bacon() feature in a spam module, what would you call it after importing spam?\n",
    "     This function can be called with spam.bacon()."
   ]
  },
  {
   "cell_type": "code",
   "execution_count": null,
   "id": "e442db0a",
   "metadata": {},
   "outputs": [],
   "source": [
    "#13. What can you do to save a programme from crashing if it encounters an error?\n",
    "    Error handling can be used to notify the user of why the error occurred and exit that process."
   ]
  },
  {
   "cell_type": "code",
   "execution_count": null,
   "id": "71ea4ed2",
   "metadata": {},
   "outputs": [],
   "source": [
    "#14. What is the purpose of the try clause? What is the purpose of the except clause?\n",
    "    Try and Except statement is used to handle these errors within our code in Python. \n",
    "    The try block is used to check some code for errors.\n",
    "    The code inside the try block will execute when there is no error in the program. \n",
    "    Whereas the code inside the except block will execute whenever the program encounters some error in the try block.\n",
    " "
   ]
  }
 ],
 "metadata": {
  "kernelspec": {
   "display_name": "Python 3 (ipykernel)",
   "language": "python",
   "name": "python3"
  },
  "language_info": {
   "codemirror_mode": {
    "name": "ipython",
    "version": 3
   },
   "file_extension": ".py",
   "mimetype": "text/x-python",
   "name": "python",
   "nbconvert_exporter": "python",
   "pygments_lexer": "ipython3",
   "version": "3.9.7"
  }
 },
 "nbformat": 4,
 "nbformat_minor": 5
}
