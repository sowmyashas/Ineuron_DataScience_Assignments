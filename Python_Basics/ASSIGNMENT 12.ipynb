{
 "cells": [
  {
   "cell_type": "code",
   "execution_count": null,
   "id": "126a4722",
   "metadata": {},
   "outputs": [],
   "source": [
    "#1. In what modes should the PdfFileReader() and PdfFileWriter() File objects will be opened?\n",
    "\n",
    "Pip install PyPDF2\n",
    "\n",
    "#These files will be opened in binary mode., read binary (rb) for PdfFileREader() and write binary (wb) PdfFileWriter()"
   ]
  },
  {
   "cell_type": "code",
   "execution_count": null,
   "id": "d45a673c",
   "metadata": {},
   "outputs": [],
   "source": [
    "#2. From a PdfFileReader object, how do you get a Page object for page 5?\n",
    "Calling getPage(4) will return a Page object for page 5 (indexes start from 0 just like arrays)\n",
    "\n",
    "import PyPDF2 as pdf\n",
    "pdfFileObj = open(\"my_sample_file.pdf\",'rb')\n",
    "pdfReader = pdf.PdfFileReader(pdfFileObj)\n",
    "pageObj = pdfReader.getPage(4)\n",
    "pageObj.extractText()"
   ]
  },
  {
   "cell_type": "code",
   "execution_count": null,
   "id": "d918a7eb",
   "metadata": {},
   "outputs": [],
   "source": [
    "#3. What PdfFileReader variable stores the number of pages in the PDF document?\n",
    "The numPages variable stores the number of pages in the PdfFileReader object in integer format\n",
    "\n",
    "import PyPDF2 as pdf\n",
    "pdfFileObj = open(\"my_sample_file.pdf\",'rb')\n",
    "pdfReader = pdf.PdfFileReader(pdfFileObj)\n",
    "pdfReader.numPages"
   ]
  },
  {
   "cell_type": "code",
   "execution_count": null,
   "id": "b56615ff",
   "metadata": {},
   "outputs": [],
   "source": [
    "#4. If a PdfFileReader object’s PDF is encrypted with the password swordfish, what must you do before\n",
    "# you can obtain Page objects from it?\n",
    "Before obtaining the page object, the pdf has to be decrypted by calling .decrypt('swordfish') \n",
    "\n",
    "pdfReader.decrypt('swordfish')"
   ]
  },
  {
   "cell_type": "code",
   "execution_count": null,
   "id": "9728261f",
   "metadata": {},
   "outputs": [],
   "source": [
    "#5. What methods do you use to rotate a page?\n",
    "The rotateClockwise() and rotateCounterClockwise() methods. The degrees to rotate is passed as an integer argument\n",
    "\n",
    "pageObj.rotateClockwise(180)"
   ]
  },
  {
   "cell_type": "code",
   "execution_count": null,
   "id": "1086f99f",
   "metadata": {},
   "outputs": [],
   "source": [
    "#6. What is the difference between a Run object and a Paragraph object?\n",
    "Paragraph Object:\n",
    "A document contains multiple paragraphs.\n",
    "A paragraph begins on a new line and contains multiple runs.\n",
    "The Document object contains a list of Paragraph objects for the paragraphs in the document.\n",
    "A new paragraph begins whenever the user presses ENTER or RETURN while typing in a Word document.\n",
    "\n",
    "Run Objects:\n",
    "Runs are continuous groups of characters within a paragraph with the same style"
   ]
  },
  {
   "cell_type": "code",
   "execution_count": null,
   "id": "ad153c81",
   "metadata": {},
   "outputs": [],
   "source": [
    "#7. How do you obtain a list of Paragraph objects for a Document object that’s stored in a variable named doc?\n",
    "By using doc.paragraphs you can obtain a list of paragraph objects for a document object\n",
    "\n",
    "# pip install python-docx\n",
    "import docx\n",
    "doc = docx.Document('new.docx')\n",
    "doc.paragraphs\n"
   ]
  },
  {
   "cell_type": "code",
   "execution_count": null,
   "id": "d4d34f4d",
   "metadata": {},
   "outputs": [],
   "source": [
    "#8. What type of object has bold, underline, italic, strike, and outline variables?\n",
    "A Run object has bold, underline,italic,strike and outline variables"
   ]
  },
  {
   "cell_type": "code",
   "execution_count": null,
   "id": "e6d8b60c",
   "metadata": {},
   "outputs": [],
   "source": [
    "#9. What is the difference between False, True, and None for the bold variable?\n",
    "\n",
    "True always makes the Run object bolded\n",
    "False makes it always not bolded, no matter what the style’s bold setting is\n",
    "None will make the Run object just use the style’s bold setting"
   ]
  },
  {
   "cell_type": "code",
   "execution_count": null,
   "id": "1d3cfd77",
   "metadata": {},
   "outputs": [],
   "source": [
    "#10. How do you create a Document object for a new Word document?\n",
    "docx.Document() function creates a new Document object"
   ]
  },
  {
   "cell_type": "code",
   "execution_count": null,
   "id": "0e1a02ce",
   "metadata": {},
   "outputs": [],
   "source": [
    "#11. How do you add a paragraph with the text 'Hello, there!' to a Document object stored in a variable named doc?\n",
    "import docx\n",
    "doc = docx.Document()\n",
    "\n",
    "doc.add_paragraph('Hello there!')\n",
    "doc.save('hellothere.docx')"
   ]
  },
  {
   "cell_type": "code",
   "execution_count": null,
   "id": "67110f66",
   "metadata": {},
   "outputs": [],
   "source": [
    "#12. What integers represent the levels of headings available in Word documents?\n",
    "integer from 0 to 4\n",
    "\n",
    "The arguments to add_heading() are a string of the heading text and an integer from 0 to 4. \n",
    "The integer 0 makes the heading the Title style, which is used for the top of the document.\n",
    "Integers 1 to 4 are for various heading levels, with 1 being the main heading and 4 the lowest subheading"
   ]
  }
 ],
 "metadata": {
  "kernelspec": {
   "display_name": "Python 3 (ipykernel)",
   "language": "python",
   "name": "python3"
  },
  "language_info": {
   "codemirror_mode": {
    "name": "ipython",
    "version": 3
   },
   "file_extension": ".py",
   "mimetype": "text/x-python",
   "name": "python",
   "nbconvert_exporter": "python",
   "pygments_lexer": "ipython3",
   "version": "3.9.7"
  }
 },
 "nbformat": 4,
 "nbformat_minor": 5
}
